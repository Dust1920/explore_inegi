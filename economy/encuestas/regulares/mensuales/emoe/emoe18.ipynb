{
 "cells": [
  {
   "cell_type": "markdown",
   "metadata": {},
   "source": [
    "# EMOE"
   ]
  },
  {
   "cell_type": "code",
   "execution_count": 15,
   "metadata": {},
   "outputs": [],
   "source": [
    "import pandas as pd\n",
    "\n",
    "emoe = pd.read_excel('data\\\\fd_emoe_serie2018.xlsx', sheet_name=None, skiprows= 1)\n",
    "ek = list(emoe.keys())"
   ]
  },
  {
   "cell_type": "code",
   "execution_count": 25,
   "metadata": {},
   "outputs": [
    {
     "data": {
      "text/html": [
       "<div>\n",
       "<style scoped>\n",
       "    .dataframe tbody tr th:only-of-type {\n",
       "        vertical-align: middle;\n",
       "    }\n",
       "\n",
       "    .dataframe tbody tr th {\n",
       "        vertical-align: top;\n",
       "    }\n",
       "\n",
       "    .dataframe thead th {\n",
       "        text-align: right;\n",
       "    }\n",
       "</style>\n",
       "<table border=\"1\" class=\"dataframe\">\n",
       "  <thead>\n",
       "    <tr style=\"text-align: right;\">\n",
       "      <th></th>\n",
       "      <th>Variable</th>\n",
       "      <th>Descripción</th>\n",
       "      <th>Observaciones</th>\n",
       "      <th>nas</th>\n",
       "    </tr>\n",
       "  </thead>\n",
       "  <tbody>\n",
       "    <tr>\n",
       "      <th>6</th>\n",
       "      <td>NaN</td>\n",
       "      <td>TIPO DE OBRA EJECUTADA</td>\n",
       "      <td>NaN</td>\n",
       "      <td>2</td>\n",
       "    </tr>\n",
       "    <tr>\n",
       "      <th>7</th>\n",
       "      <td>p1_3_1estpo</td>\n",
       "      <td>Edificación residencial</td>\n",
       "      <td>Se refiere al tipo de obra realizada en el per...</td>\n",
       "      <td>0</td>\n",
       "    </tr>\n",
       "    <tr>\n",
       "      <th>8</th>\n",
       "      <td>p1_3_2estpo</td>\n",
       "      <td>Edificación no residencial</td>\n",
       "      <td>NaN</td>\n",
       "      <td>1</td>\n",
       "    </tr>\n",
       "    <tr>\n",
       "      <th>9</th>\n",
       "      <td>p1_3_3histpo</td>\n",
       "      <td>Infraestructura</td>\n",
       "      <td>NaN</td>\n",
       "      <td>1</td>\n",
       "    </tr>\n",
       "    <tr>\n",
       "      <th>10</th>\n",
       "      <td>p1_3_4estpo</td>\n",
       "      <td>Trabajos especializados</td>\n",
       "      <td>NaN</td>\n",
       "      <td>1</td>\n",
       "    </tr>\n",
       "    <tr>\n",
       "      <th>11</th>\n",
       "      <td>2</td>\n",
       "      <td>TOTAL DE CONTRATOS Y SUBCONTRATOS</td>\n",
       "      <td>NaN</td>\n",
       "      <td>1</td>\n",
       "    </tr>\n",
       "    <tr>\n",
       "      <th>12</th>\n",
       "      <td>d2_1est</td>\n",
       "      <td>Total de contratos y subcontratos</td>\n",
       "      <td>Número total de contratos y subcontratos que r...</td>\n",
       "      <td>0</td>\n",
       "    </tr>\n",
       "    <tr>\n",
       "      <th>13</th>\n",
       "      <td>d2_1estpo</td>\n",
       "      <td>Porcentaje de variación Total de contratos y s...</td>\n",
       "      <td>NaN</td>\n",
       "      <td>1</td>\n",
       "    </tr>\n",
       "  </tbody>\n",
       "</table>\n",
       "</div>"
      ],
      "text/plain": [
       "        Variable                                        Descripción  \\\n",
       "6            NaN                             TIPO DE OBRA EJECUTADA   \n",
       "7    p1_3_1estpo                            Edificación residencial   \n",
       "8    p1_3_2estpo                        Edificación no residencial    \n",
       "9   p1_3_3histpo                                   Infraestructura    \n",
       "10   p1_3_4estpo                            Trabajos especializados   \n",
       "11             2                  TOTAL DE CONTRATOS Y SUBCONTRATOS   \n",
       "12       d2_1est                  Total de contratos y subcontratos   \n",
       "13     d2_1estpo  Porcentaje de variación Total de contratos y s...   \n",
       "\n",
       "                                        Observaciones  nas  \n",
       "6                                                 NaN    2  \n",
       "7   Se refiere al tipo de obra realizada en el per...    0  \n",
       "8                                                 NaN    1  \n",
       "9                                                 NaN    1  \n",
       "10                                                NaN    1  \n",
       "11                                                NaN    1  \n",
       "12  Número total de contratos y subcontratos que r...    0  \n",
       "13                                                NaN    1  "
      ]
     },
     "execution_count": 25,
     "metadata": {},
     "output_type": "execute_result"
    }
   ],
   "source": [
    "df = emoe[ek[0]]\n",
    "\n",
    "categories = [df.iloc[0, 1]]\n",
    "categories\n",
    "\n",
    "\n",
    "df['nas'] = df.isna().sum(axis = 1)\n",
    "cats = df[df['nas'] == 2]\n",
    "categories = categories + list(cats.iloc[:, 1])\n",
    "cat_index = [0] + list(cats.index)\n",
    "\n",
    "ldfs = [df.iloc[cat_index[i]:cat_index[i + 1],:] for i in range(len(cat_index) - 1)]\n"
   ]
  },
  {
   "cell_type": "code",
   "execution_count": null,
   "metadata": {},
   "outputs": [],
   "source": [
    ")"
   ]
  }
 ],
 "metadata": {
  "kernelspec": {
   "display_name": "base",
   "language": "python",
   "name": "python3"
  },
  "language_info": {
   "codemirror_mode": {
    "name": "ipython",
    "version": 3
   },
   "file_extension": ".py",
   "mimetype": "text/x-python",
   "name": "python",
   "nbconvert_exporter": "python",
   "pygments_lexer": "ipython3",
   "version": "3.11.5"
  }
 },
 "nbformat": 4,
 "nbformat_minor": 2
}
