{
 "cells": [
  {
   "cell_type": "markdown",
   "metadata": {},
   "source": [
    "# EMOE\n",
    "\n",
    "## Descarga de los Datos\n",
    "\n",
    "### Lectura de los datos."
   ]
  },
  {
   "cell_type": "code",
   "execution_count": 68,
   "metadata": {},
   "outputs": [
    {
     "data": {
      "text/plain": [
       "['CONSTRUCCION', 'IND MANUFACTURERAS', 'COMERCIO', 'SERVICIOS']"
      ]
     },
     "execution_count": 68,
     "metadata": {},
     "output_type": "execute_result"
    }
   ],
   "source": [
    "import pandas as pd\n",
    "import numpy as np\n",
    "\n",
    "emoe = pd.read_excel('data\\\\fd_emoe_serie2018.xlsx', sheet_name=None, skiprows= 1)\n",
    "ek = list(emoe.keys())\n",
    "ek"
   ]
  },
  {
   "cell_type": "markdown",
   "metadata": {},
   "source": [
    "Como podemos observar, tenemos 4 hojas que debemos formatear. \n",
    "\n",
    "## Análisis de Datos."
   ]
  },
  {
   "cell_type": "code",
   "execution_count": 69,
   "metadata": {},
   "outputs": [
    {
     "data": {
      "text/html": [
       "<div>\n",
       "<style scoped>\n",
       "    .dataframe tbody tr th:only-of-type {\n",
       "        vertical-align: middle;\n",
       "    }\n",
       "\n",
       "    .dataframe tbody tr th {\n",
       "        vertical-align: top;\n",
       "    }\n",
       "\n",
       "    .dataframe thead th {\n",
       "        text-align: right;\n",
       "    }\n",
       "</style>\n",
       "<table border=\"1\" class=\"dataframe\">\n",
       "  <thead>\n",
       "    <tr style=\"text-align: right;\">\n",
       "      <th></th>\n",
       "      <th>Variable</th>\n",
       "      <th>Descripción</th>\n",
       "      <th>Observaciones</th>\n",
       "    </tr>\n",
       "  </thead>\n",
       "  <tbody>\n",
       "    <tr>\n",
       "      <th>0</th>\n",
       "      <td>1</td>\n",
       "      <td>OBRAS EJECUTADAS</td>\n",
       "      <td>NaN</td>\n",
       "    </tr>\n",
       "    <tr>\n",
       "      <th>1</th>\n",
       "      <td>p1_1est</td>\n",
       "      <td>Obras Ejecutadas</td>\n",
       "      <td>Es el valor total o parcial (avance de obra) d...</td>\n",
       "    </tr>\n",
       "    <tr>\n",
       "      <th>2</th>\n",
       "      <td>p1_1estpo</td>\n",
       "      <td>Porcentaje de variación en Obras ejecutadas</td>\n",
       "      <td>NaN</td>\n",
       "    </tr>\n",
       "    <tr>\n",
       "      <th>3</th>\n",
       "      <td>NaN</td>\n",
       "      <td>OBRAS EJECUTADAS COMO SUBCONTRATISTA</td>\n",
       "      <td>NaN</td>\n",
       "    </tr>\n",
       "    <tr>\n",
       "      <th>4</th>\n",
       "      <td>p1_2est</td>\n",
       "      <td>Obras ejecutas como subcontratista</td>\n",
       "      <td>Es el valor total o parcial (avance de obra) d...</td>\n",
       "    </tr>\n",
       "  </tbody>\n",
       "</table>\n",
       "</div>"
      ],
      "text/plain": [
       "    Variable                                  Descripción  \\\n",
       "0          1                             OBRAS EJECUTADAS   \n",
       "1    p1_1est                            Obras Ejecutadas    \n",
       "2  p1_1estpo  Porcentaje de variación en Obras ejecutadas   \n",
       "3        NaN         OBRAS EJECUTADAS COMO SUBCONTRATISTA   \n",
       "4    p1_2est           Obras ejecutas como subcontratista   \n",
       "\n",
       "                                       Observaciones  \n",
       "0                                                NaN  \n",
       "1  Es el valor total o parcial (avance de obra) d...  \n",
       "2                                                NaN  \n",
       "3                                                NaN  \n",
       "4  Es el valor total o parcial (avance de obra) d...  "
      ]
     },
     "execution_count": 69,
     "metadata": {},
     "output_type": "execute_result"
    }
   ],
   "source": [
    "sheet = ek[0]\n",
    "data = emoe[sheet]\n",
    "df = data.copy()\n",
    "df.head()"
   ]
  },
  {
   "cell_type": "markdown",
   "metadata": {},
   "source": [
    "Observando todo la hoja, vemos que algunas columnas poseen números. Las usaremos para subdividir la hoja en pequeñas tablas."
   ]
  },
  {
   "cell_type": "code",
   "execution_count": 70,
   "metadata": {},
   "outputs": [
    {
     "name": "stderr",
     "output_type": "stream",
     "text": [
      "C:\\Users\\Tamara\\AppData\\Local\\Temp\\ipykernel_6276\\3659518525.py:1: FutureWarning: using <class 'type'> in Series.agg cannot aggregate and has been deprecated. Use Series.transform to keep behavior unchanged.\n",
      "  var_num = list(df.iloc[:, 0].agg(type) == int)\n"
     ]
    },
    {
     "data": {
      "text/plain": [
       "[True,\n",
       " False,\n",
       " False,\n",
       " False,\n",
       " False,\n",
       " False,\n",
       " False,\n",
       " False,\n",
       " False,\n",
       " False,\n",
       " False,\n",
       " True,\n",
       " False,\n",
       " False,\n",
       " False,\n",
       " False,\n",
       " False,\n",
       " False,\n",
       " False,\n",
       " False,\n",
       " True,\n",
       " False,\n",
       " False,\n",
       " False,\n",
       " False,\n",
       " False,\n",
       " False,\n",
       " False,\n",
       " False,\n",
       " False,\n",
       " True,\n",
       " False,\n",
       " False,\n",
       " False,\n",
       " False,\n",
       " False,\n",
       " False,\n",
       " False,\n",
       " False,\n",
       " True,\n",
       " False,\n",
       " False,\n",
       " True,\n",
       " False,\n",
       " False,\n",
       " False,\n",
       " False,\n",
       " False]"
      ]
     },
     "execution_count": 70,
     "metadata": {},
     "output_type": "execute_result"
    }
   ],
   "source": [
    "var_num = list(df.iloc[:, 0].agg(type) == int)\n",
    "var_num"
   ]
  },
  {
   "cell_type": "markdown",
   "metadata": {},
   "source": [
    "Una vez los detectamos. Mostramos únicamente las columnas que posean un valor de verdadero. "
   ]
  },
  {
   "cell_type": "code",
   "execution_count": 71,
   "metadata": {},
   "outputs": [
    {
     "data": {
      "text/plain": [
       "[0, 11, 20, 30, 39, 42]"
      ]
     },
     "execution_count": 71,
     "metadata": {},
     "output_type": "execute_result"
    }
   ],
   "source": [
    "i = 0\n",
    "first_index = []\n",
    "for value in var_num:\n",
    "    if value:\n",
    "        first_index.append(i)\n",
    "    i += 1\n",
    "first_index"
   ]
  },
  {
   "cell_type": "markdown",
   "metadata": {},
   "source": [
    "Una vez los tenemos localizados, procedemos a crear las distintas subtablas. "
   ]
  },
  {
   "cell_type": "code",
   "execution_count": 72,
   "metadata": {},
   "outputs": [],
   "source": [
    "first_level = []\n",
    "for i in range(len(first_index) - 1):\n",
    "    first_level.append(df.iloc[first_index[i]: first_index[i + 1],:])\n",
    "first_level.append(df.iloc[first_index[i + 1]: ,:])"
   ]
  },
  {
   "cell_type": "markdown",
   "metadata": {},
   "source": [
    "Ahora seleccionamos una de las subtablas para formatear. "
   ]
  },
  {
   "cell_type": "code",
   "execution_count": 73,
   "metadata": {},
   "outputs": [
    {
     "data": {
      "text/html": [
       "<div>\n",
       "<style scoped>\n",
       "    .dataframe tbody tr th:only-of-type {\n",
       "        vertical-align: middle;\n",
       "    }\n",
       "\n",
       "    .dataframe tbody tr th {\n",
       "        vertical-align: top;\n",
       "    }\n",
       "\n",
       "    .dataframe thead th {\n",
       "        text-align: right;\n",
       "    }\n",
       "</style>\n",
       "<table border=\"1\" class=\"dataframe\">\n",
       "  <thead>\n",
       "    <tr style=\"text-align: right;\">\n",
       "      <th></th>\n",
       "      <th>Variable</th>\n",
       "      <th>Descripción</th>\n",
       "      <th>Observaciones</th>\n",
       "    </tr>\n",
       "  </thead>\n",
       "  <tbody>\n",
       "    <tr>\n",
       "      <th>42</th>\n",
       "      <td>7</td>\n",
       "      <td>SITUACIÓN ECONOMICA DEL PAÍS</td>\n",
       "      <td>NaN</td>\n",
       "    </tr>\n",
       "    <tr>\n",
       "      <th>43</th>\n",
       "      <td>s8_1</td>\n",
       "      <td>Situación económica del país actual</td>\n",
       "      <td>Las condiciones económicas prevalecientes en e...</td>\n",
       "    </tr>\n",
       "    <tr>\n",
       "      <th>44</th>\n",
       "      <td>s8_2</td>\n",
       "      <td>Situación económica del país futura</td>\n",
       "      <td>NaN</td>\n",
       "    </tr>\n",
       "    <tr>\n",
       "      <th>45</th>\n",
       "      <td>NaN</td>\n",
       "      <td>SITUACIÓN ECONOMICA DE LA EMPRESA</td>\n",
       "      <td>NaN</td>\n",
       "    </tr>\n",
       "    <tr>\n",
       "      <th>46</th>\n",
       "      <td>s8_3</td>\n",
       "      <td>Situación económica de la empresa actual</td>\n",
       "      <td>Las condiciones económicas prevalecientes en l...</td>\n",
       "    </tr>\n",
       "    <tr>\n",
       "      <th>47</th>\n",
       "      <td>s8_4</td>\n",
       "      <td>Situación económica de la empresa futura</td>\n",
       "      <td>NaN</td>\n",
       "    </tr>\n",
       "  </tbody>\n",
       "</table>\n",
       "</div>"
      ],
      "text/plain": [
       "   Variable                               Descripción  \\\n",
       "42        7             SITUACIÓN ECONOMICA DEL PAÍS    \n",
       "43     s8_1       Situación económica del país actual   \n",
       "44     s8_2       Situación económica del país futura   \n",
       "45      NaN         SITUACIÓN ECONOMICA DE LA EMPRESA   \n",
       "46     s8_3  Situación económica de la empresa actual   \n",
       "47     s8_4  Situación económica de la empresa futura   \n",
       "\n",
       "                                        Observaciones  \n",
       "42                                                NaN  \n",
       "43  Las condiciones económicas prevalecientes en e...  \n",
       "44                                                NaN  \n",
       "45                                                NaN  \n",
       "46  Las condiciones económicas prevalecientes en l...  \n",
       "47                                                NaN  "
      ]
     },
     "execution_count": 73,
     "metadata": {},
     "output_type": "execute_result"
    }
   ],
   "source": [
    "first_level[5]\n",
    "subdata = first_level[5]\n",
    "subdf = subdata.copy()\n",
    "subdf"
   ]
  },
  {
   "cell_type": "markdown",
   "metadata": {},
   "source": [
    "Ahora procederemos a realizar algunos pasos para moldear los dataframes. "
   ]
  },
  {
   "cell_type": "code",
   "execution_count": 74,
   "metadata": {},
   "outputs": [
    {
     "data": {
      "text/html": [
       "<div>\n",
       "<style scoped>\n",
       "    .dataframe tbody tr th:only-of-type {\n",
       "        vertical-align: middle;\n",
       "    }\n",
       "\n",
       "    .dataframe tbody tr th {\n",
       "        vertical-align: top;\n",
       "    }\n",
       "\n",
       "    .dataframe thead th {\n",
       "        text-align: right;\n",
       "    }\n",
       "</style>\n",
       "<table border=\"1\" class=\"dataframe\">\n",
       "  <thead>\n",
       "    <tr style=\"text-align: right;\">\n",
       "      <th></th>\n",
       "      <th>Variable</th>\n",
       "      <th>Descripción</th>\n",
       "      <th>Observaciones</th>\n",
       "      <th>nna</th>\n",
       "    </tr>\n",
       "  </thead>\n",
       "  <tbody>\n",
       "    <tr>\n",
       "      <th>1</th>\n",
       "      <td>s8_1</td>\n",
       "      <td>Situación económica del país actual</td>\n",
       "      <td>Las condiciones económicas prevalecientes en e...</td>\n",
       "      <td>SITUACIÓN ECONOMICA DEL PAÍS</td>\n",
       "    </tr>\n",
       "    <tr>\n",
       "      <th>2</th>\n",
       "      <td>s8_2</td>\n",
       "      <td>Situación económica del país futura</td>\n",
       "      <td>NaN</td>\n",
       "      <td>SITUACIÓN ECONOMICA DEL PAÍS</td>\n",
       "    </tr>\n",
       "  </tbody>\n",
       "</table>\n",
       "</div>"
      ],
      "text/plain": [
       "  Variable                          Descripción  \\\n",
       "1     s8_1  Situación económica del país actual   \n",
       "2     s8_2  Situación económica del país futura   \n",
       "\n",
       "                                       Observaciones  \\\n",
       "1  Las condiciones económicas prevalecientes en e...   \n",
       "2                                                NaN   \n",
       "\n",
       "                             nna  \n",
       "1  SITUACIÓN ECONOMICA DEL PAÍS   \n",
       "2  SITUACIÓN ECONOMICA DEL PAÍS   "
      ]
     },
     "execution_count": 74,
     "metadata": {},
     "output_type": "execute_result"
    }
   ],
   "source": [
    "# Agregamos un NA donde se encontraba el número con tal de homogeniezar la información\n",
    "subdf.iloc[0, 0] = pd.NA\n",
    "subdf['nna'] = subdf.isna().sum(axis = 1)\n",
    "# Reseteamos los indices por estabilidad. \n",
    "subdf = subdf.reset_index(drop=True)  \n",
    "\n",
    "# Capturamos los indices de los nombres de las subsubtablas. \n",
    "seltwo = subdf[subdf['nna'] == 2]\n",
    "selindex = list(seltwo.index)\n",
    "\n",
    "# Hacemos la subsubdivisión.\n",
    "second_level = []\n",
    "for i in range(len(selindex) - 1):\n",
    "    second_level.append(subdf.iloc[selindex[i]:selindex[i + 1], :])\n",
    "second_level.append(subdf.iloc[selindex[i + 1]:, :])\n",
    "\n",
    "# Seleccionamos una de las subsubtablas\n",
    "subsubdata = second_level[0]\n",
    "subsubdf = subsubdata.copy()\n",
    "\n",
    "subsubname = subsubdf.iloc[0, 1] # Nombre de la Tabla.\n",
    "subsubdf.iloc[:, -1] = subsubname\n",
    "subsubdf = subsubdf.iloc[1:, :] # Removemos la primer columna. \n",
    "\n",
    "subsubdf # Mostramos el resultado. "
   ]
  },
  {
   "cell_type": "markdown",
   "metadata": {},
   "source": [
    "Ahora, agrupamos todo para cada elemento de second_level. "
   ]
  },
  {
   "cell_type": "code",
   "execution_count": 75,
   "metadata": {},
   "outputs": [
    {
     "data": {
      "text/html": [
       "<div>\n",
       "<style scoped>\n",
       "    .dataframe tbody tr th:only-of-type {\n",
       "        vertical-align: middle;\n",
       "    }\n",
       "\n",
       "    .dataframe tbody tr th {\n",
       "        vertical-align: top;\n",
       "    }\n",
       "\n",
       "    .dataframe thead th {\n",
       "        text-align: right;\n",
       "    }\n",
       "</style>\n",
       "<table border=\"1\" class=\"dataframe\">\n",
       "  <thead>\n",
       "    <tr style=\"text-align: right;\">\n",
       "      <th></th>\n",
       "      <th>Variable</th>\n",
       "      <th>Descripción</th>\n",
       "      <th>Observaciones</th>\n",
       "      <th>nna</th>\n",
       "    </tr>\n",
       "  </thead>\n",
       "  <tbody>\n",
       "    <tr>\n",
       "      <th>1</th>\n",
       "      <td>s8_1</td>\n",
       "      <td>Situación económica del país actual</td>\n",
       "      <td>Las condiciones económicas prevalecientes en e...</td>\n",
       "      <td>SITUACIÓN ECONOMICA DEL PAÍS</td>\n",
       "    </tr>\n",
       "    <tr>\n",
       "      <th>2</th>\n",
       "      <td>s8_2</td>\n",
       "      <td>Situación económica del país futura</td>\n",
       "      <td>NaN</td>\n",
       "      <td>SITUACIÓN ECONOMICA DEL PAÍS</td>\n",
       "    </tr>\n",
       "    <tr>\n",
       "      <th>4</th>\n",
       "      <td>s8_3</td>\n",
       "      <td>Situación económica de la empresa actual</td>\n",
       "      <td>Las condiciones económicas prevalecientes en l...</td>\n",
       "      <td>SITUACIÓN ECONOMICA DE LA EMPRESA</td>\n",
       "    </tr>\n",
       "    <tr>\n",
       "      <th>5</th>\n",
       "      <td>s8_4</td>\n",
       "      <td>Situación económica de la empresa futura</td>\n",
       "      <td>NaN</td>\n",
       "      <td>SITUACIÓN ECONOMICA DE LA EMPRESA</td>\n",
       "    </tr>\n",
       "  </tbody>\n",
       "</table>\n",
       "</div>"
      ],
      "text/plain": [
       "  Variable                               Descripción  \\\n",
       "1     s8_1       Situación económica del país actual   \n",
       "2     s8_2       Situación económica del país futura   \n",
       "4     s8_3  Situación económica de la empresa actual   \n",
       "5     s8_4  Situación económica de la empresa futura   \n",
       "\n",
       "                                       Observaciones  \\\n",
       "1  Las condiciones económicas prevalecientes en e...   \n",
       "2                                                NaN   \n",
       "4  Las condiciones económicas prevalecientes en l...   \n",
       "5                                                NaN   \n",
       "\n",
       "                                 nna  \n",
       "1      SITUACIÓN ECONOMICA DEL PAÍS   \n",
       "2      SITUACIÓN ECONOMICA DEL PAÍS   \n",
       "4  SITUACIÓN ECONOMICA DE LA EMPRESA  \n",
       "5  SITUACIÓN ECONOMICA DE LA EMPRESA  "
      ]
     },
     "execution_count": 75,
     "metadata": {},
     "output_type": "execute_result"
    }
   ],
   "source": [
    "subsublist = second_level\n",
    "for i, subsub in enumerate(subsublist):\n",
    "    subsubdata = subsub\n",
    "    subsubdf = subsubdata.copy()\n",
    "    subsubname = subsubdf.iloc[0, 1] # Nombre de la Tabla.\n",
    "    subsubdf.iloc[:, -1] = subsubname\n",
    "    subsubdf = subsubdf.iloc[1:,:] # Removemos la primer columna.\n",
    "    if i == 0:\n",
    "        ssdf = subsubdf.copy()\n",
    "    else:\n",
    "        ssdf = pd.concat([ssdf, subsubdf])\n",
    "\n",
    "\n",
    "## El mismo codigo, pero ahora como función. \n",
    "def last_level(subsublist: list):\n",
    "    for i, subsub in enumerate(subsublist):\n",
    "        subsubdf = subsub.copy()\n",
    "        subsubname = subsubdf.iloc[0, 1] # Nombre de la Tabla.\n",
    "        subsubdf.iloc[:, -1] = subsubname\n",
    "        subsubdf = subsubdf.iloc[1:,:] # Removemos la primer columna.\n",
    "        if i == 0:\n",
    "            ssdf = subsubdf.copy()\n",
    "        else:\n",
    "            ssdf = pd.concat([ssdf, subsubdf])\n",
    "    return ssdf \n",
    "\n",
    "ssdf"
   ]
  },
  {
   "cell_type": "markdown",
   "metadata": {},
   "source": [
    "Una vez tenemos el código, iremos dando pasos hacia atrás. "
   ]
  },
  {
   "cell_type": "code",
   "execution_count": 76,
   "metadata": {},
   "outputs": [],
   "source": [
    "def back_level(sublist: list):\n",
    "    list_levels = []\n",
    "    for i, sub in enumerate(sublist):\n",
    "        subdf = sub.copy()\n",
    "        subdf.iloc[0, 0] = pd.NA\n",
    "        subdf['nna'] = subdf.isna().sum(axis = 1)\n",
    "        subdf = subdf.reset_index(drop=True)  \n",
    "        seltwo = subdf[subdf['nna'] == 2]\n",
    "        selindex = list(seltwo.index)\n",
    "        second_level = []\n",
    "        for i in range(len(selindex) - 1):\n",
    "            second_level.append(subdf.iloc[selindex[i] : selindex[i + 1], :])\n",
    "        second_level.append(subdf.iloc[selindex[-1]: ,:])\n",
    "        list_levels.append(second_level)\n",
    "    return list_levels"
   ]
  },
  {
   "cell_type": "markdown",
   "metadata": {},
   "source": [
    "Finalmente. Juntando todo, tenemos la primera hoja."
   ]
  },
  {
   "cell_type": "code",
   "execution_count": 77,
   "metadata": {},
   "outputs": [
    {
     "name": "stderr",
     "output_type": "stream",
     "text": [
      "C:\\Users\\Tamara\\AppData\\Local\\Temp\\ipykernel_6276\\2170344279.py:6: FutureWarning: using <class 'type'> in Series.agg cannot aggregate and has been deprecated. Use Series.transform to keep behavior unchanged.\n",
      "  var_num = list(df.iloc[:, 0].agg(type) == int)\n"
     ]
    }
   ],
   "source": [
    "sheet = ek[0]\n",
    "data = emoe[sheet]\n",
    "df = data.copy()\n",
    "\n",
    "def data_sheet(df: pd.DataFrame):\n",
    "    var_num = list(df.iloc[:, 0].agg(type) == int)\n",
    "    i = 0\n",
    "    first_index = []\n",
    "    for value in var_num:\n",
    "        if value:\n",
    "            first_index.append(i)\n",
    "        i += 1\n",
    "    for i in range(len(first_index) - 1):\n",
    "        first_level.append(df.iloc[first_index[i]: first_index[i + 1],:])\n",
    "    first_level.append(df.iloc[first_index[-1]: ,:])\n",
    "    levels = back_level(first_level)\n",
    "    for k, level in enumerate(levels):\n",
    "        if k == 0:\n",
    "            sdf = last_level(level)\n",
    "        else:\n",
    "            sdf = pd.concat([sdf, last_level(level)])\n",
    "    return sdf\n",
    "one_sheet = data_sheet(df)\n"
   ]
  },
  {
   "cell_type": "code",
   "execution_count": 78,
   "metadata": {},
   "outputs": [],
   "source": [
    "test = one_sheet.reset_index(drop=True)\n",
    "test.to_excel('results\\\\test.xlsx')"
   ]
  },
  {
   "cell_type": "markdown",
   "metadata": {},
   "source": [
    "Ahora queda revisar que sucede con el resto de hojas, primero una ejecución confiada. "
   ]
  },
  {
   "cell_type": "code",
   "execution_count": 79,
   "metadata": {},
   "outputs": [
    {
     "name": "stderr",
     "output_type": "stream",
     "text": [
      "C:\\Users\\Tamara\\AppData\\Local\\Temp\\ipykernel_6276\\2170344279.py:6: FutureWarning: using <class 'type'> in Series.agg cannot aggregate and has been deprecated. Use Series.transform to keep behavior unchanged.\n",
      "  var_num = list(df.iloc[:, 0].agg(type) == int)\n",
      "C:\\Users\\Tamara\\AppData\\Local\\Temp\\ipykernel_6276\\2170344279.py:6: FutureWarning: using <class 'type'> in Series.agg cannot aggregate and has been deprecated. Use Series.transform to keep behavior unchanged.\n",
      "  var_num = list(df.iloc[:, 0].agg(type) == int)\n",
      "C:\\Users\\Tamara\\AppData\\Local\\Temp\\ipykernel_6276\\2170344279.py:6: FutureWarning: using <class 'type'> in Series.agg cannot aggregate and has been deprecated. Use Series.transform to keep behavior unchanged.\n",
      "  var_num = list(df.iloc[:, 0].agg(type) == int)\n",
      "C:\\Users\\Tamara\\AppData\\Local\\Temp\\ipykernel_6276\\2170344279.py:6: FutureWarning: using <class 'type'> in Series.agg cannot aggregate and has been deprecated. Use Series.transform to keep behavior unchanged.\n",
      "  var_num = list(df.iloc[:, 0].agg(type) == int)\n"
     ]
    }
   ],
   "source": [
    "sheets = list(emoe.keys())\n",
    "\n",
    "for s, sh in enumerate(sheets):\n",
    "    data = emoe[sh]\n",
    "    df = data.copy()\n",
    "    if s == 0:\n",
    "        last_df = data_sheet(df)\n",
    "    else:\n",
    "        last_df = pd.concat([last_df, data_sheet(df)])"
   ]
  },
  {
   "cell_type": "markdown",
   "metadata": {},
   "source": [
    "Todo se ejecuto sin problemas, entonces generamos el excel. "
   ]
  },
  {
   "cell_type": "code",
   "execution_count": 80,
   "metadata": {},
   "outputs": [],
   "source": [
    "last_df.to_excel('results\\\\emoe2018.xlsx')"
   ]
  },
  {
   "cell_type": "markdown",
   "metadata": {},
   "source": [
    "El archivo ya esta terminado, sin embargo vamos a darle los toques finales. "
   ]
  },
  {
   "cell_type": "code",
   "execution_count": 81,
   "metadata": {},
   "outputs": [
    {
     "name": "stderr",
     "output_type": "stream",
     "text": [
      "C:\\Users\\Tamara\\AppData\\Local\\Temp\\ipykernel_6276\\2170344279.py:6: FutureWarning: using <class 'type'> in Series.agg cannot aggregate and has been deprecated. Use Series.transform to keep behavior unchanged.\n",
      "  var_num = list(df.iloc[:, 0].agg(type) == int)\n",
      "C:\\Users\\Tamara\\AppData\\Local\\Temp\\ipykernel_6276\\2170344279.py:6: FutureWarning: using <class 'type'> in Series.agg cannot aggregate and has been deprecated. Use Series.transform to keep behavior unchanged.\n",
      "  var_num = list(df.iloc[:, 0].agg(type) == int)\n"
     ]
    },
    {
     "name": "stderr",
     "output_type": "stream",
     "text": [
      "C:\\Users\\Tamara\\AppData\\Local\\Temp\\ipykernel_6276\\2170344279.py:6: FutureWarning: using <class 'type'> in Series.agg cannot aggregate and has been deprecated. Use Series.transform to keep behavior unchanged.\n",
      "  var_num = list(df.iloc[:, 0].agg(type) == int)\n",
      "C:\\Users\\Tamara\\AppData\\Local\\Temp\\ipykernel_6276\\2170344279.py:6: FutureWarning: using <class 'type'> in Series.agg cannot aggregate and has been deprecated. Use Series.transform to keep behavior unchanged.\n",
      "  var_num = list(df.iloc[:, 0].agg(type) == int)\n"
     ]
    }
   ],
   "source": [
    "sheets = list(emoe.keys())\n",
    "\n",
    "for s, sh in enumerate(sheets):\n",
    "    data = emoe[sh]\n",
    "    df = data.copy()\n",
    "    if s == 0:\n",
    "        last_df = data_sheet(df)\n",
    "        last_df = last_df.drop_duplicates(ignore_index=True)\n",
    "    else:\n",
    "        f_df = data_sheet(df)\n",
    "        last_df = pd.concat([last_df, f_df])\n",
    "        last_df = last_df.drop_duplicates(ignore_index=True)\n",
    "    \n",
    "last_df.rename({'nna':'SubNombre'})\n",
    "last_df.to_excel('results\\\\emoe2018.xlsx')"
   ]
  }
 ],
 "metadata": {
  "kernelspec": {
   "display_name": "base",
   "language": "python",
   "name": "python3"
  },
  "language_info": {
   "codemirror_mode": {
    "name": "ipython",
    "version": 3
   },
   "file_extension": ".py",
   "mimetype": "text/x-python",
   "name": "python",
   "nbconvert_exporter": "python",
   "pygments_lexer": "ipython3",
   "version": "3.11.5"
  }
 },
 "nbformat": 4,
 "nbformat_minor": 2
}
