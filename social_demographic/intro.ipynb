{
 "cells": [
  {
   "cell_type": "markdown",
   "metadata": {},
   "source": [
    "# Subsistema de Información Demográfica y Social.\n",
    "\n",
    "Comenzamos la exploración de la pagina dentro del Subsistema de Información Demográfica y Social. Vemos que esta se divide en varias categorías.\n",
    "\n",
    "* Censos y Conteos. \n",
    "* Encuestas.\n",
    "* Registros / Estadísticas.\n",
    "* Características Sociodemográficas en áreas pequeñas.\n",
    "* Históricas.\n",
    "\n",
    "\n",
    "Estás se irán investigando a tráves de las distintas carpetas del documento."
   ]
  },
  {
   "cell_type": "code",
   "execution_count": null,
   "metadata": {},
   "outputs": [],
   "source": []
  }
 ],
 "metadata": {
  "language_info": {
   "name": "python"
  }
 },
 "nbformat": 4,
 "nbformat_minor": 2
}
