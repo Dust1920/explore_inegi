{
 "cells": [
  {
   "cell_type": "markdown",
   "metadata": {},
   "source": [
    "# Encuestas.\n",
    "\n",
    "Dentro de las encuestas veremos 3 categorias principales. \n",
    "\n",
    "* Regulares.\n",
    "* Especiales.\n",
    "* Módulos."
   ]
  },
  {
   "cell_type": "code",
   "execution_count": null,
   "metadata": {},
   "outputs": [],
   "source": []
  }
 ],
 "metadata": {
  "language_info": {
   "name": "python"
  }
 },
 "nbformat": 4,
 "nbformat_minor": 2
}
