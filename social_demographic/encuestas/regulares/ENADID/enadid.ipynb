{
 "cells": [
  {
   "cell_type": "markdown",
   "metadata": {},
   "source": [
    "# Encuesta Nacional de la Dinámica Demógrafica.\n"
   ]
  },
  {
   "cell_type": "markdown",
   "metadata": {},
   "source": [
    "\n",
    "##  Diccionario de Datos \n",
    "\n",
    "Como primer objetivo, vamos a extraer los diccionarios de datos.\n",
    "\n",
    "### Descarga\n",
    "Para la descarga vamos a recuperar el url del archivo. Primero descargaremos las librerías correspondientes y haremos la conexión."
   ]
  },
  {
   "cell_type": "code",
   "execution_count": 69,
   "metadata": {},
   "outputs": [
    {
     "data": {
      "text/plain": [
       "'\\nimport requests as r\\nfrom bs4 import BeautifulSoup\\n\\nenadid_url = \"https://www.inegi.org.mx/programas/enadid/2018/\"\\n\\ntabs = [\\'documentacion\\',\\'tabulados\\',\\'microdatos\\', \\'datos_abiertos\\',\\'herramientas\\']\\n\\nurl = enadid_url + \"#\" + tabs[2]\\n\\nresponse = r.get(url)\\n\\n'"
      ]
     },
     "execution_count": 69,
     "metadata": {},
     "output_type": "execute_result"
    }
   ],
   "source": [
    "\n",
    "\"\"\"\n",
    "import requests as r\n",
    "from bs4 import BeautifulSoup\n",
    "\n",
    "enadid_url = \"https://www.inegi.org.mx/programas/enadid/2018/\"\n",
    "\n",
    "tabs = ['documentacion','tabulados','microdatos', 'datos_abiertos','herramientas']\n",
    "\n",
    "url = enadid_url + \"#\" + tabs[2]\n",
    "\n",
    "response = r.get(url)\n",
    "\n",
    "\"\"\"\n"
   ]
  },
  {
   "cell_type": "markdown",
   "metadata": {},
   "source": [
    "Una vez la conexión esta hecha. Entonces partimos a extraer el texto."
   ]
  },
  {
   "cell_type": "code",
   "execution_count": 70,
   "metadata": {},
   "outputs": [
    {
     "data": {
      "text/plain": [
       "dict_keys(['TVIVIENDA', 'THOGAR', 'TSDEM', 'TMIGRANTE', 'TFECHISEMB', 'TMUJER1', 'TMUJER2'])"
      ]
     },
     "execution_count": 70,
     "metadata": {},
     "output_type": "execute_result"
    }
   ],
   "source": [
    "import numpy as np\n",
    "import pandas as pd\n",
    "\n",
    "enadid = pd.read_excel('fd_enadid_2018_2014_2018.xlsx', sheet_name=None)\n",
    "dictsheets = enadid.keys()\n",
    "dictsheets"
   ]
  },
  {
   "cell_type": "markdown",
   "metadata": {},
   "source": [
    "## Analísis\n",
    "Una vez hayamos logrado descargar el diccionario de datos. Nuestro objetivo es crear un documento que almacene la mayor cantidad de variables posibles. Además vimos que un diccionario posee varias hojas. Entonces partiremos de la primera hoja. "
   ]
  },
  {
   "cell_type": "code",
   "execution_count": 71,
   "metadata": {},
   "outputs": [
    {
     "data": {
      "text/html": [
       "<div>\n",
       "<style scoped>\n",
       "    .dataframe tbody tr th:only-of-type {\n",
       "        vertical-align: middle;\n",
       "    }\n",
       "\n",
       "    .dataframe tbody tr th {\n",
       "        vertical-align: top;\n",
       "    }\n",
       "\n",
       "    .dataframe thead th {\n",
       "        text-align: right;\n",
       "    }\n",
       "</style>\n",
       "<table border=\"1\" class=\"dataframe\">\n",
       "  <thead>\n",
       "    <tr style=\"text-align: right;\">\n",
       "      <th></th>\n",
       "      <th>Unnamed: 0</th>\n",
       "      <th>INEGI. Encuesta Nacional de la Dinámica Demográfica 2014-2018. Descriptor de base de explotación</th>\n",
       "      <th>Unnamed: 2</th>\n",
       "      <th>Unnamed: 3</th>\n",
       "      <th>Unnamed: 4</th>\n",
       "      <th>Unnamed: 5</th>\n",
       "      <th>Unnamed: 6</th>\n",
       "      <th>Unnamed: 7</th>\n",
       "      <th>Unnamed: 8</th>\n",
       "      <th>Unnamed: 9</th>\n",
       "      <th>Unnamed: 10</th>\n",
       "      <th>Unnamed: 11</th>\n",
       "    </tr>\n",
       "  </thead>\n",
       "  <tbody>\n",
       "    <tr>\n",
       "      <th>0</th>\n",
       "      <td>NaN</td>\n",
       "      <td>NaN</td>\n",
       "      <td>NaN</td>\n",
       "      <td>NaN</td>\n",
       "      <td>NaN</td>\n",
       "      <td>NaN</td>\n",
       "      <td>NaN</td>\n",
       "      <td>NaN</td>\n",
       "      <td>NaN</td>\n",
       "      <td>NaN</td>\n",
       "      <td>NaN</td>\n",
       "      <td>NaN</td>\n",
       "    </tr>\n",
       "    <tr>\n",
       "      <th>1</th>\n",
       "      <td>NaN</td>\n",
       "      <td>ESTRUCTURA DEL ARCHIVO</td>\n",
       "      <td>NaN</td>\n",
       "      <td>NaN</td>\n",
       "      <td>NaN</td>\n",
       "      <td>NaN</td>\n",
       "      <td>NaN</td>\n",
       "      <td>NaN</td>\n",
       "      <td>NaN</td>\n",
       "      <td>NaN</td>\n",
       "      <td>NaN</td>\n",
       "      <td>NaN</td>\n",
       "    </tr>\n",
       "    <tr>\n",
       "      <th>2</th>\n",
       "      <td>NaN</td>\n",
       "      <td>Encuesta Nacional de la Dinámica Demográfica 2018</td>\n",
       "      <td>NaN</td>\n",
       "      <td>NaN</td>\n",
       "      <td>NaN</td>\n",
       "      <td>NaN</td>\n",
       "      <td>NaN</td>\n",
       "      <td>NaN</td>\n",
       "      <td>NaN</td>\n",
       "      <td>NaN</td>\n",
       "      <td>NaN</td>\n",
       "      <td>NaN</td>\n",
       "    </tr>\n",
       "    <tr>\n",
       "      <th>3</th>\n",
       "      <td>NaN</td>\n",
       "      <td>Prueba estadística ENADID 2014-2018</td>\n",
       "      <td>NaN</td>\n",
       "      <td>NaN</td>\n",
       "      <td>NaN</td>\n",
       "      <td>NaN</td>\n",
       "      <td>NaN</td>\n",
       "      <td>NaN</td>\n",
       "      <td>NaN</td>\n",
       "      <td>NaN</td>\n",
       "      <td>NaN</td>\n",
       "      <td>NaN</td>\n",
       "    </tr>\n",
       "    <tr>\n",
       "      <th>4</th>\n",
       "      <td>NaN</td>\n",
       "      <td>Tabla de datos: ENADID_2018-2014.TMIGRANTE_PE</td>\n",
       "      <td>NaN</td>\n",
       "      <td>NaN</td>\n",
       "      <td>NaN</td>\n",
       "      <td>NaN</td>\n",
       "      <td>NaN</td>\n",
       "      <td>NaN</td>\n",
       "      <td>NaN</td>\n",
       "      <td>NaN</td>\n",
       "      <td>NaN</td>\n",
       "      <td>NaN</td>\n",
       "    </tr>\n",
       "  </tbody>\n",
       "</table>\n",
       "</div>"
      ],
      "text/plain": [
       "   Unnamed: 0  \\\n",
       "0         NaN   \n",
       "1         NaN   \n",
       "2         NaN   \n",
       "3         NaN   \n",
       "4         NaN   \n",
       "\n",
       "  INEGI. Encuesta Nacional de la Dinámica Demográfica 2014-2018. Descriptor de base de explotación   \\\n",
       "0                                                NaN                                                  \n",
       "1                             ESTRUCTURA DEL ARCHIVO                                                  \n",
       "2  Encuesta Nacional de la Dinámica Demográfica 2018                                                  \n",
       "3                Prueba estadística ENADID 2014-2018                                                  \n",
       "4      Tabla de datos: ENADID_2018-2014.TMIGRANTE_PE                                                  \n",
       "\n",
       "  Unnamed: 2 Unnamed: 3 Unnamed: 4 Unnamed: 5 Unnamed: 6 Unnamed: 7  \\\n",
       "0        NaN        NaN        NaN        NaN        NaN        NaN   \n",
       "1        NaN        NaN        NaN        NaN        NaN        NaN   \n",
       "2        NaN        NaN        NaN        NaN        NaN        NaN   \n",
       "3        NaN        NaN        NaN        NaN        NaN        NaN   \n",
       "4        NaN        NaN        NaN        NaN        NaN        NaN   \n",
       "\n",
       "  Unnamed: 8 Unnamed: 9 Unnamed: 10 Unnamed: 11  \n",
       "0        NaN        NaN         NaN         NaN  \n",
       "1        NaN        NaN         NaN         NaN  \n",
       "2        NaN        NaN         NaN         NaN  \n",
       "3        NaN        NaN         NaN         NaN  \n",
       "4        NaN        NaN         NaN         NaN  "
      ]
     },
     "execution_count": 71,
     "metadata": {},
     "output_type": "execute_result"
    }
   ],
   "source": [
    "test_analysis = enadid['TMIGRANTE']\n",
    "test_analysis.head()"
   ]
  },
  {
   "cell_type": "markdown",
   "metadata": {},
   "source": [
    "Vemos varias cosas que no nos interesan. Por ejemplo, el texto que aparece en los primeros renglones."
   ]
  },
  {
   "cell_type": "code",
   "execution_count": 72,
   "metadata": {},
   "outputs": [],
   "source": [
    "def t_header():\n",
    "    indicate_remove = test_analysis[\n",
    "    'INEGI. Encuesta Nacional de la Dinámica Demográfica 2014-2018. Descriptor de base de explotación '].isna()\n",
    "    indicate_remove = list(indicate_remove)\n",
    "    indicate_remove\n",
    "    remove = 0\n",
    "    t = 0\n",
    "    while remove < 3:\n",
    "        if indicate_remove[t] == True:\n",
    "            remove += 1\n",
    "        t += 1\n",
    "    return t\n",
    "\n",
    "def remove_header(t):\n",
    "    remove_index = np.arange(0, t)\n",
    "    test_analysis = test_analysis.drop(index = remove_index)"
   ]
  },
  {
   "cell_type": "markdown",
   "metadata": {},
   "source": [
    "Ahora, eliminamos los renglones vacíos."
   ]
  },
  {
   "cell_type": "code",
   "execution_count": 73,
   "metadata": {},
   "outputs": [],
   "source": [
    "test_analysis['Unnamed: 0'] = test_analysis.isna().sum(axis = 1)\n",
    "n_cols = test_analysis['Unnamed: 0'].max()\n",
    "# test_analysis = test_analysis[test_analysis['Unnamed: 0'] < n_cols]"
   ]
  },
  {
   "cell_type": "markdown",
   "metadata": {},
   "source": [
    "Ahora debemos seleccionar las categórias de cada una de las tablas que aparecen."
   ]
  },
  {
   "cell_type": "code",
   "execution_count": 74,
   "metadata": {},
   "outputs": [],
   "source": [
    "sub_tables = test_analysis[test_analysis['Unnamed: 0'] == (n_cols - 1)]\n",
    "sub_tables = sub_tables[~sub_tables['INEGI. Encuesta Nacional de la Dinámica Demográfica 2014-2018. Descriptor de base de explotación '].isna()]\n",
    "names = sub_tables['INEGI. Encuesta Nacional de la Dinámica Demográfica 2014-2018. Descriptor de base de explotación '].to_list()\n",
    "sub_index = np.array(sub_tables.index)\n",
    "sub_index = sub_index[sub_index > t_header()]\n"
   ]
  },
  {
   "cell_type": "code",
   "execution_count": 75,
   "metadata": {},
   "outputs": [],
   "source": [
    "subdfs = []\n",
    "for i in range(len(sub_index) - 1):\n",
    "    subdfs.append(test_analysis.iloc[sub_index[i]:sub_index[i + 1],:])\n",
    "    if sub_index[i + 1] == sub_index[-1]:\n",
    "        subdfs.append(test_analysis.iloc[sub_index[i + 1]:,:])"
   ]
  },
  {
   "cell_type": "markdown",
   "metadata": {},
   "source": [
    "Ahora, que las tenemos en una lista. Procedemos a limpiarlas."
   ]
  },
  {
   "cell_type": "code",
   "execution_count": 76,
   "metadata": {},
   "outputs": [],
   "source": [
    "def df_block(ldf):\n",
    "    superdf = pd.DataFrame()\n",
    "    for q, df_test in enumerate(ldf):\n",
    "        # print(q)\n",
    "        df_test = subdfs[q]\n",
    "        df_cols = list(df_test.iloc[1,:])\n",
    "        if df_cols[2] == 'Nemónico_PE':\n",
    "            df_cols[2] = 'Mnemónico_PE'\n",
    "        df_test.columns = df_cols\n",
    "        df_name = df_test.iloc[0, 1]\n",
    "        if q == 0:\n",
    "            df_test = df_test.drop(columns = df_test.columns[0]).iloc[4: ,:]\n",
    "        else:\n",
    "            df_test = df_test.drop(columns = df_test.columns[0]).iloc[3: ,:]\n",
    "        df_clean = df_test.dropna(axis= 0, how='all').ffill()\n",
    "        df_clean['SubNombre'] = df_name\n",
    "        # print(df_clean)\n",
    "        superdf = pd.concat([superdf, df_clean])\n",
    "    return superdf\n",
    "\n",
    "# dfls = df_block(subdfs)\n"
   ]
  },
  {
   "cell_type": "code",
   "execution_count": 77,
   "metadata": {},
   "outputs": [],
   "source": [
    "dfls = df_block(subdfs)\n",
    "\n"
   ]
  },
  {
   "cell_type": "markdown",
   "metadata": {},
   "source": [
    "Finalmete, lo guardamos en un excel llamado . result.xlsx."
   ]
  },
  {
   "cell_type": "code",
   "execution_count": 78,
   "metadata": {},
   "outputs": [],
   "source": [
    "dfls.set_index('ID',inplace=True)\n",
    "dfls.to_excel('result_test8.xlsx')"
   ]
  },
  {
   "cell_type": "markdown",
   "metadata": {},
   "source": [
    "De las pruebas, vimos que hay problemas cuando cambian las columnas. Entonces lo que haremos será asegurarnos que se mantenga uniforme. Primero definimos la "
   ]
  },
  {
   "cell_type": "code",
   "execution_count": 79,
   "metadata": {},
   "outputs": [],
   "source": [
    "def addtext_tolist(lista: list, texto: str,lado: str):\n",
    "    for i in range(len(lista)):\n",
    "        if lado == 'right':\n",
    "            lista[i] = lista[i] + texto\n",
    "        else:\n",
    "            lista[i] = texto + lista[i]\n",
    "    return lista\n",
    "\n",
    "def comparelists(listaA: list, listaB: list):\n",
    "    d_index = []\n",
    "    if len(listaA) == len(listaB):\n",
    "        for i in range(len(listaA)):\n",
    "            if listaA[i] != listaB[i]:\n",
    "                d_index.append(i)\n",
    "    return d_index\n",
    "\n",
    "def couple_cols(actual: pd.DataFrame, new: pd.DataFrame):\n",
    "    now_cols = list(actual.columns)\n",
    "    new_cols = list(new.columns)\n",
    "    if len(now_cols) != len(new_cols):\n",
    "        return -1\n",
    "    for i in range(len(now_cols)):\n",
    "        now_cols[i] = str(now_cols[i]) \n",
    "        new_cols[i] = str(new_cols[i])\n",
    "    mod_cols = comparelists(now_cols, new_cols)\n",
    "    new_cols = {new_cols[i] : now_cols[i] for i in mod_cols}\n",
    "    new = new.rename(columns=new_cols)\n",
    "    return new\n"
   ]
  },
  {
   "cell_type": "code",
   "execution_count": 80,
   "metadata": {},
   "outputs": [],
   "source": [
    "def df_blocks(ldf):\n",
    "    superdf = pd.DataFrame()\n",
    "    for q, df_test in enumerate(ldf):\n",
    "        # print(q)\n",
    "        df_cols = list(df_test.iloc[1,:])\n",
    "        if df_cols[2] == 'Nemónico_PE':\n",
    "            df_cols[2] = 'Mnemónico_PE'\n",
    "        df_test.columns = df_cols\n",
    "        df_name = df_test.iloc[0, 1]\n",
    "        df_test.loc[:, ['SubNombre']] = df_name\n",
    "        if q == 0:\n",
    "            df_test = df_test.drop(columns = df_test.columns[0]).iloc[4: ,:]\n",
    "        else:\n",
    "            df_test = df_test.drop(columns = df_test.columns[0]).iloc[3: ,:]\n",
    "            df_test = couple_cols(superdf, df_test)\n",
    "        df_clean = df_test.dropna(axis= 0, how='all').ffill()\n",
    "        # print(df_clean)\n",
    "        superdf = pd.concat([superdf, df_clean])\n",
    "    return superdf\n",
    "\n",
    "dfls = df_blocks(subdfs)\n",
    "\n"
   ]
  },
  {
   "cell_type": "code",
   "execution_count": 81,
   "metadata": {},
   "outputs": [
    {
     "name": "stdout",
     "output_type": "stream",
     "text": [
      "Index([             'ID',    'Mnemónico_PE',          'Nombre',\n",
      "           'Descripción',            'Tipo',           'Long.',\n",
      "       'Códigos válidos',          'Clases',               nan,\n",
      "              'Catálogo',     'Comentarios',       'SubNombre'],\n",
      "      dtype='object')\n"
     ]
    }
   ],
   "source": [
    "print(dfls.columns)\n",
    "dfls.set_index('ID',inplace=True)\n",
    "dfls.to_excel('result_test8.xlsx')"
   ]
  },
  {
   "cell_type": "markdown",
   "metadata": {},
   "source": [
    "Ahora si, modificaremos el código anterior para así poder leer cualquier base."
   ]
  },
  {
   "cell_type": "markdown",
   "metadata": {},
   "source": [
    "Ahora, finalmente crearemos dos libros de excel. \n",
    "\n",
    "* `enadid_all.xlsx`: Donde se guardará todas las hojas \n",
    "* `enadid_tabs.xlsx`: Donde se guardará cada hoja como pestaña del libro."
   ]
  },
  {
   "cell_type": "code",
   "execution_count": 82,
   "metadata": {},
   "outputs": [
    {
     "name": "stdout",
     "output_type": "stream",
     "text": [
      "TVIVIENDA\n",
      "THOGAR\n",
      "TSDEM\n",
      "TMIGRANTE\n",
      "TFECHISEMB\n",
      "TMUJER1\n",
      "TMUJER2\n"
     ]
    }
   ],
   "source": [
    "import pandas as pd\n",
    "import numpy as np\n",
    "\n",
    "enadid = pd.read_excel('fd_enadid_2018_2014_2018.xlsx', sheet_name=None)\n",
    "dictsheets = enadid.keys()\n",
    "\n",
    "def t_header(data: pd.DataFrame):\n",
    "    indicate_remove = data[\n",
    "    'INEGI. Encuesta Nacional de la Dinámica Demográfica 2014-2018. Descriptor de base de explotación '].isna()\n",
    "    indicate_remove = list(indicate_remove)\n",
    "    indicate_remove\n",
    "    remove = 0\n",
    "    t = 0\n",
    "    while remove < 3:\n",
    "        if indicate_remove[t] == True:\n",
    "            remove += 1\n",
    "        t += 1\n",
    "    return t\n",
    "\n",
    "def remove_header(t, data: pd.DataFrame):\n",
    "    remove_index = np.arange(0, t)\n",
    "    data = data.drop(index = remove_index)\n",
    "\n",
    "def comparelists(listaA: list, listaB: list):\n",
    "    d_index = []\n",
    "    if len(listaA) == len(listaB):\n",
    "        for i in range(len(listaA)):\n",
    "            if listaA[i] != listaB[i]:\n",
    "                d_index.append(i)\n",
    "    return d_index\n",
    "\n",
    "def couple_cols(actual: pd.DataFrame, new: pd.DataFrame):\n",
    "    now_cols = list(actual.columns)\n",
    "    new_cols = list(new.columns)\n",
    "    if len(now_cols) != len(new_cols):\n",
    "        return -1\n",
    "    for i in range(len(now_cols)):\n",
    "        now_cols[i] = str(now_cols[i]) \n",
    "        new_cols[i] = str(new_cols[i])\n",
    "    mod_cols = comparelists(now_cols, new_cols)\n",
    "    new_cols = {new_cols[i] : now_cols[i] for i in mod_cols}\n",
    "    new = new.rename(columns=new_cols)\n",
    "    return new\n",
    "\n",
    "def df_blocks(ldf):\n",
    "    superdf = pd.DataFrame()\n",
    "    for q, df_test in enumerate(ldf):\n",
    "        # print(q)\n",
    "        df_cols = list(df_test.iloc[1,:])\n",
    "        if df_cols[2] == 'Nemónico_PE':\n",
    "            df_cols[2] = 'Mnemónico_PE'\n",
    "        df_test.columns = df_cols\n",
    "        df_name = df_test.iloc[0, 1]\n",
    "        df_test.loc[:, ['SubNombre']] = df_name\n",
    "        if q == 0:\n",
    "            df_test = df_test.drop(columns = df_test.columns[0]).iloc[4: ,:]\n",
    "        else:\n",
    "            df_test = df_test.drop(columns = df_test.columns[0]).iloc[3: ,:]\n",
    "            df_test = couple_cols(superdf, df_test)\n",
    "        df_clean = df_test.dropna(axis= 0, how='all').ffill()\n",
    "        # print(df_clean)\n",
    "        superdf = pd.concat([superdf, df_clean])\n",
    "    return superdf\n",
    "\n",
    "all_df = pd.DataFrame()\n",
    "for sheet in dictsheets:  \n",
    "    print(sheet)\n",
    "    tab_df = enadid[sheet]\n",
    "    tab_df['Unnamed: 0'] = tab_df.isna().sum(axis = 1)\n",
    "    n_cols = tab_df['Unnamed: 0'].max()\n",
    "    sub_tables = tab_df[tab_df['Unnamed: 0'] == (n_cols - 1)]\n",
    "    sub_tables = sub_tables[~sub_tables['INEGI. Encuesta Nacional de la Dinámica Demográfica 2014-2018. Descriptor de base de explotación '].isna()]\n",
    "    names = sub_tables['INEGI. Encuesta Nacional de la Dinámica Demográfica 2014-2018. Descriptor de base de explotación '].to_list()\n",
    "    sub_index = np.array(sub_tables.index)\n",
    "    sub_index = sub_index[sub_index > t_header(tab_df)]\n",
    "    subdfs = []\n",
    "    for i in range(len(sub_index) - 1):\n",
    "        subdfs.append(tab_df.iloc[sub_index[i]:sub_index[i + 1],:])\n",
    "    if sub_index[i + 1] == sub_index[-1]:\n",
    "        subdfs.append(tab_df.iloc[sub_index[i + 1]:,:])\n",
    "    sub_all_df = df_blocks(subdfs)\n",
    "    sub_all_df.set_index('ID',inplace=True)\n",
    "    sub_all_df['Hoja'] = sheet\n",
    "    all_df = pd.concat([all_df, sub_all_df])\n",
    "all_df.to_excel('enadid_all.xlsx')\n",
    "    "
   ]
  }
 ],
 "metadata": {
  "kernelspec": {
   "display_name": "base",
   "language": "python",
   "name": "python3"
  },
  "language_info": {
   "codemirror_mode": {
    "name": "ipython",
    "version": 3
   },
   "file_extension": ".py",
   "mimetype": "text/x-python",
   "name": "python",
   "nbconvert_exporter": "python",
   "pygments_lexer": "ipython3",
   "version": "3.11.5"
  }
 },
 "nbformat": 4,
 "nbformat_minor": 2
}
