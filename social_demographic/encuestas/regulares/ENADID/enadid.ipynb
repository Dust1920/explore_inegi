{
 "cells": [
  {
   "cell_type": "markdown",
   "metadata": {},
   "source": [
    "# Encuesta Nacional de la Dinámica Demógrafica.\n"
   ]
  },
  {
   "cell_type": "markdown",
   "metadata": {},
   "source": [
    "\n",
    "##  Diccionario de Datos \n",
    "\n",
    "Como primer objetivo, vamos a extraer los diccionarios de datos.\n",
    "\n",
    "### Descarga\n",
    "Para la descarga vamos a recuperar el url del archivo. Primero descargaremos las librerías correspondientes y haremos la conexión."
   ]
  },
  {
   "cell_type": "code",
   "execution_count": 25,
   "metadata": {},
   "outputs": [
    {
     "data": {
      "text/plain": [
       "'\\nimport requests as r\\nfrom bs4 import BeautifulSoup\\n\\nenadid_url = \"https://www.inegi.org.mx/programas/enadid/2018/\"\\n\\ntabs = [\\'documentacion\\',\\'tabulados\\',\\'microdatos\\', \\'datos_abiertos\\',\\'herramientas\\']\\n\\nurl = enadid_url + \"#\" + tabs[2]\\n\\nresponse = r.get(url)\\n\\n'"
      ]
     },
     "execution_count": 25,
     "metadata": {},
     "output_type": "execute_result"
    }
   ],
   "source": [
    "\n",
    "\"\"\"\n",
    "import requests as r\n",
    "from bs4 import BeautifulSoup\n",
    "\n",
    "enadid_url = \"https://www.inegi.org.mx/programas/enadid/2018/\"\n",
    "\n",
    "tabs = ['documentacion','tabulados','microdatos', 'datos_abiertos','herramientas']\n",
    "\n",
    "url = enadid_url + \"#\" + tabs[2]\n",
    "\n",
    "response = r.get(url)\n",
    "\n",
    "\"\"\"\n"
   ]
  },
  {
   "cell_type": "markdown",
   "metadata": {},
   "source": [
    "Una vez la conexión esta hecha. Entonces partimos a extraer el texto."
   ]
  },
  {
   "cell_type": "code",
   "execution_count": 26,
   "metadata": {},
   "outputs": [],
   "source": [
    "import numpy as np\n",
    "import pandas as pd\n"
   ]
  },
  {
   "cell_type": "code",
   "execution_count": null,
   "metadata": {},
   "outputs": [],
   "source": []
  },
  {
   "cell_type": "code",
   "execution_count": null,
   "metadata": {},
   "outputs": [],
   "source": []
  }
 ],
 "metadata": {
  "kernelspec": {
   "display_name": "base",
   "language": "python",
   "name": "python3"
  },
  "language_info": {
   "codemirror_mode": {
    "name": "ipython",
    "version": 3
   },
   "file_extension": ".py",
   "mimetype": "text/x-python",
   "name": "python",
   "nbconvert_exporter": "python",
   "pygments_lexer": "ipython3",
   "version": "3.11.5"
  }
 },
 "nbformat": 4,
 "nbformat_minor": 2
}
