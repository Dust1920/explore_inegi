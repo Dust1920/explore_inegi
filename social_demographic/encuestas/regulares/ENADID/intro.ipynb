{
 "cells": [
  {
   "cell_type": "markdown",
   "metadata": {},
   "source": [
    "# Encuesta Nacional de la Dinámica Demográfica (ENADID)\n",
    "\n",
    "La Encuesta Nacional de la Dinámica Demográfica (ENADID) 2018 se llevó a cabo con la finalidad de proporcionar información estadística relacionada con el nivel y comportamiento de los componentes de la dinámica demográfica: fecundidad, mortalidad y migración (interna e internacional); así como otros temas referidos a la población, los hogares y las viviendas.\n",
    "\n",
    "Actualmente, en la página del INEGI se presentan las encuestas realizadas durante: \n",
    "\n",
    "* 2018 (EXCEL)\n",
    "* 2014 (EXCEL)\n",
    "* 2009 (PDF)\n",
    "* 2006 (No hay registro)\n",
    "* 1997 (PDF)\n",
    "* 1992 (PDF)\n",
    "\n",
    "Entonces, a lo largo de estas libretas. Iremos explorando el proceso para el almacenaje de los descriptores dentro de un conjunto de libros de Excel para su consulta cómoda manual y su consulta optimizada programatica. \n",
    "\n",
    "## Referencias\n",
    "https://www.inegi.org.mx/programas/enadid/2018/"
   ]
  }
 ],
 "metadata": {
  "language_info": {
   "name": "python"
  }
 },
 "nbformat": 4,
 "nbformat_minor": 2
}
