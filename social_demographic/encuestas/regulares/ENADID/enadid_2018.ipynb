{
 "cells": [
  {
   "cell_type": "markdown",
   "metadata": {},
   "source": [
    "# 2018\n",
    "La Encuesta Nacional de la Dinámica Demográfica (ENADID) 2018 se llevó a cabo con la finalidad de proporcionar información estadística relacionada con el nivel y comportamiento de los componentes de la dinámica demográfica: fecundidad, mortalidad y migración (interna e internacional); así como otros temas referidos a la población, los hogares y las viviendas.\n",
    "\n",
    "## Descarga de Datos\n",
    "Los datos fueron descargados de forma manual, se prevee automatizarlo en un futuro.\n",
    "\n",
    "## Manejo de Datos\n",
    "El manejo de datos se divide en 3 campos. \n",
    "* Análisis de Datos: Observar los datos a fin de buscar propiedades útiles y pensar como separarlas del resto del documento. \n",
    "* Manipulación de Datos: La manipulación de la base da datos original para obtener la parte que nos interesa. \n",
    "* Almacenaje de Datos. Pensar el formato que le daremos para el guardado. \n",
    "\n",
    "El Análisis y la Manipulación de Datos se realizaron fuera de esta libreta, de igual forma se anexa el resultado final."
   ]
  },
  {
   "cell_type": "code",
   "execution_count": 12,
   "metadata": {},
   "outputs": [],
   "source": [
    "import pandas as pd  # Importación de Librerias.\n",
    "import numpy as np\n",
    "\n",
    "\n",
    "def comparelists(listaA: list, listaB: list):  # Función auxiliar para comparar dos listas. \n",
    "    d_index = []\n",
    "    if len(listaA) == len(listaB):\n",
    "        for i in range(len(listaA)):\n",
    "            if listaA[i] != listaB[i]:\n",
    "                d_index.append(i)\n",
    "    return d_index\n",
    "\n",
    "\n",
    "def t_header(data: pd.DataFrame):  ## * Derivadas de la estructura del DataFrame inicial \n",
    "    indicate_remove = data[\n",
    "    'INEGI. Encuesta Nacional de la Dinámica Demográfica 2014-2018. Descriptor de base de explotación '].isna()\n",
    "    indicate_remove = list(indicate_remove)\n",
    "    remove = 0\n",
    "    t = 0\n",
    "    while remove < 3:\n",
    "        if indicate_remove[t] == True:\n",
    "            remove += 1\n",
    "        t += 1\n",
    "    return t\n",
    "\n",
    "def remove_header(t, data: pd.DataFrame):  ## * \n",
    "    remove_index = np.arange(0, t)\n",
    "    data = data.drop(index = remove_index)\n",
    "\n",
    "def couple_cols(actual: pd.DataFrame, new: pd.DataFrame):  # * \n",
    "    now_cols = list(actual.columns)\n",
    "    new_cols = list(new.columns)\n",
    "    if len(now_cols) != len(new_cols):\n",
    "        return -1\n",
    "    for i in range(len(now_cols)):\n",
    "        now_cols[i] = str(now_cols[i]) \n",
    "        new_cols[i] = str(new_cols[i])\n",
    "    mod_cols = comparelists(now_cols, new_cols)\n",
    "    new_cols = {new_cols[i] : now_cols[i] for i in mod_cols}\n",
    "    new = new.rename(columns=new_cols)\n",
    "    return new\n",
    "\n",
    "def df_blocks(ldf):  # * \n",
    "    superdf = pd.DataFrame()\n",
    "    for q, df_test in enumerate(ldf):\n",
    "        df_cols = list(df_test.iloc[1,:])\n",
    "        if df_cols[2] == 'Nemónico_PE':\n",
    "            df_cols[2] = 'Mnemónico_PE'\n",
    "        df_test.columns = df_cols\n",
    "        df_name = df_test.iloc[0, 1]\n",
    "        df_test.loc[:, ['SubNombre']] = df_name\n",
    "        if q == 0:\n",
    "            df_test = df_test.drop(columns = df_test.columns[0]).iloc[4: ,:]\n",
    "        else:\n",
    "            df_test = df_test.drop(columns = df_test.columns[0]).iloc[3: ,:]\n",
    "            df_test = couple_cols(superdf, df_test)\n",
    "        df_clean = df_test.dropna(axis= 0, how='all').ffill()\n",
    "        superdf = pd.concat([superdf, df_clean])\n",
    "    return superdf\n",
    "def enadid2018_all(save_to: str):\n",
    "    all_df = pd.DataFrame()\n",
    "    enadid = pd.read_excel('data\\\\fd_enadid_2018_2014_2018.xlsx', sheet_name=None)\n",
    "    dictsheets = enadid.keys()\n",
    "    for sheet in dictsheets:  \n",
    "        print(sheet)\n",
    "        tab_df = enadid[sheet]\n",
    "        tab_df['Unnamed: 0'] = tab_df.isna().sum(axis = 1)\n",
    "        n_cols = tab_df['Unnamed: 0'].max()\n",
    "        sub_tables = tab_df[tab_df['Unnamed: 0'] == (n_cols - 1)]\n",
    "        sub_tables = sub_tables[~sub_tables['INEGI. Encuesta Nacional de la Dinámica Demográfica 2014-2018. Descriptor de base de explotación '].isna()]\n",
    "        names = sub_tables['INEGI. Encuesta Nacional de la Dinámica Demográfica 2014-2018. Descriptor de base de explotación '].to_list()\n",
    "        sub_index = np.array(sub_tables.index)\n",
    "        sub_index = sub_index[sub_index > t_header(tab_df)]\n",
    "        subdfs = []\n",
    "        for i in range(len(sub_index) - 1):\n",
    "            subdfs.append(tab_df.iloc[sub_index[i]:sub_index[i + 1],:])\n",
    "        if sub_index[i + 1] == sub_index[-1]:\n",
    "            subdfs.append(tab_df.iloc[sub_index[i + 1]:,:])\n",
    "        sub_all_df = df_blocks(subdfs)\n",
    "        sub_all_df.set_index('ID',inplace=True)\n",
    "        sub_all_df['Hoja'] = sheet\n",
    "        all_df = pd.concat([all_df, sub_all_df])\n",
    "    all_df.to_excel(save_to, sheet_name='toPython')\n",
    "\n",
    "def enadid2018_tabs(save_to : str):\n",
    "    writer = pd.ExcelWriter(save_to, engine='xlsxwriter')\n",
    "    enadid = pd.read_excel('data\\\\fd_enadid_2018_2014_2018.xlsx', sheet_name=None)\n",
    "    dictsheets = enadid.keys()\n",
    "    for sheet in dictsheets:  \n",
    "        print(sheet)\n",
    "        tab_df = enadid[sheet]\n",
    "        tab_df['Unnamed: 0'] = tab_df.isna().sum(axis = 1)\n",
    "        n_cols = tab_df['Unnamed: 0'].max()\n",
    "        sub_tables = tab_df[tab_df['Unnamed: 0'] == (n_cols - 1)]\n",
    "        sub_tables = sub_tables[~sub_tables['INEGI. Encuesta Nacional de la Dinámica Demográfica 2014-2018. Descriptor de base de explotación '].isna()]\n",
    "        names = sub_tables['INEGI. Encuesta Nacional de la Dinámica Demográfica 2014-2018. Descriptor de base de explotación '].to_list()\n",
    "        sub_index = np.array(sub_tables.index)\n",
    "        sub_index = sub_index[sub_index > t_header(tab_df)]\n",
    "        subdfs = []\n",
    "        for i in range(len(sub_index) - 1):\n",
    "            subdfs.append(tab_df.iloc[sub_index[i]:sub_index[i + 1],:])\n",
    "        if sub_index[i + 1] == sub_index[-1]:\n",
    "            subdfs.append(tab_df.iloc[sub_index[i + 1]:,:])\n",
    "        sub_all_df = df_blocks(subdfs)\n",
    "        sub_all_df.set_index('ID',inplace=True)\n",
    "        sub_all_df['Hoja'] = sheet\n",
    "        sub_all_df.to_excel(writer, sheet_name= sheet)\n",
    "    writer.close()\n"
   ]
  },
  {
   "cell_type": "markdown",
   "metadata": {},
   "source": [
    "Finalmente, veremos el resultado en la carpeta result.\n",
    "### Almacenaje de Datos. \n",
    "\n",
    "#### Almacenaje NO programatico. \n",
    "\n",
    "Con no programatico hacemos referencia a que el resultado será revisado por una persona, por lo tanto conviene más que la hojas se mantengan separadas. "
   ]
  },
  {
   "cell_type": "code",
   "execution_count": 13,
   "metadata": {},
   "outputs": [
    {
     "name": "stdout",
     "output_type": "stream",
     "text": [
      "TVIVIENDA\n",
      "THOGAR\n",
      "TSDEM\n",
      "TMIGRANTE\n",
      "TFECHISEMB\n",
      "TMUJER1\n",
      "TMUJER2\n"
     ]
    }
   ],
   "source": [
    "dir_save = 'results\\\\'\n",
    "filename = 'enadid2018_tabs.xlsx'\n",
    "file_path = dir_save + filename\n",
    "enadid2018_tabs(file_path)"
   ]
  },
  {
   "cell_type": "markdown",
   "metadata": {},
   "source": [
    "#### Almacenaje programatico. \n",
    "\n",
    "Aquí, haremos la consulta mediante `Python`  por lo tanto conviene que todos los descriptores se encuentren un solo archivo correctamente etiquetado. (Para eso la creación de las nuevas columnas.)"
   ]
  },
  {
   "cell_type": "code",
   "execution_count": 14,
   "metadata": {},
   "outputs": [
    {
     "name": "stdout",
     "output_type": "stream",
     "text": [
      "TVIVIENDA\n",
      "THOGAR\n",
      "TSDEM\n",
      "TMIGRANTE\n",
      "TFECHISEMB\n",
      "TMUJER1\n",
      "TMUJER2\n"
     ]
    }
   ],
   "source": [
    "dir_save = 'results\\\\'\n",
    "filename = 'enadid2018_all.xlsx'\n",
    "file_path = dir_save + filename\n",
    "enadid2018_all(file_path)"
   ]
  },
  {
   "cell_type": "markdown",
   "metadata": {},
   "source": [
    "Ahora, viajaremos en el tiempo. Regresando a 2014 y recuperando sus descriptores."
   ]
  }
 ],
 "metadata": {
  "kernelspec": {
   "display_name": "base",
   "language": "python",
   "name": "python3"
  },
  "language_info": {
   "codemirror_mode": {
    "name": "ipython",
    "version": 3
   },
   "file_extension": ".py",
   "mimetype": "text/x-python",
   "name": "python",
   "nbconvert_exporter": "python",
   "pygments_lexer": "ipython3",
   "version": "3.11.5"
  }
 },
 "nbformat": 4,
 "nbformat_minor": 2
}
