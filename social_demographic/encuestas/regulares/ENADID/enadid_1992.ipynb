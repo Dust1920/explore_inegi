{
 "cells": [
  {
   "cell_type": "markdown",
   "metadata": {},
   "source": [
    "# ENADID 1992"
   ]
  },
  {
   "cell_type": "code",
   "execution_count": 58,
   "metadata": {},
   "outputs": [],
   "source": [
    "import os\n",
    "\n",
    "folder_path = \"data\\\\fd_enadid92\"\n",
    "\n",
    "files = os.listdir(folder_path)\n",
    "\n",
    "files_to_work = []\n",
    "for f in files:\n",
    "    if f.endswith('.xlsx'):\n",
    "        files_to_work.append(f)"
   ]
  },
  {
   "cell_type": "code",
   "execution_count": 59,
   "metadata": {},
   "outputs": [],
   "source": [
    "import pandas as pd\n",
    "\n",
    "enadid_dfs = []\n",
    "for w in files_to_work:\n",
    "    path_file = os.path.join(folder_path, w)\n",
    "    enadid_dfs.append(pd.read_excel(path_file))\n",
    "\n",
    "dtest = enadid_dfs[0]"
   ]
  },
  {
   "cell_type": "code",
   "execution_count": 60,
   "metadata": {},
   "outputs": [],
   "source": [
    "import numpy as np\n",
    "\n",
    "dtest['isna'] = dtest['XI  ANTICONCEPCIÓN.\\n\\nDESCRIPCIÓN'].isna()\n",
    "\n",
    "nrows = dtest.shape[0]\n",
    "ncols = dtest.shape[1]\n",
    "\n",
    "select_subtables = [0]\n",
    "for i in range(nrows - 1):\n",
    "    actual_state = dtest.iloc[i, -1] == False\n",
    "    step_plus = dtest.iloc[i + 1, -1] == True\n",
    "    if np.logical_and(step_plus, actual_state):\n",
    "       select_subtables.append(i)\n",
    "select_subtables.append(nrows - 1)\n",
    "dtest = dtest.iloc[:, : -1]"
   ]
  },
  {
   "cell_type": "code",
   "execution_count": 61,
   "metadata": {},
   "outputs": [],
   "source": [
    "one_dfs = []\n",
    "for m in range(len(select_subtables) - 1):\n",
    "    one_dfs.append(dtest.iloc[select_subtables[m]: select_subtables[m + 1]])\n"
   ]
  },
  {
   "cell_type": "markdown",
   "metadata": {},
   "source": [
    "Ahora, para cada sub-data frame."
   ]
  },
  {
   "cell_type": "code",
   "execution_count": 62,
   "metadata": {},
   "outputs": [],
   "source": [
    "new_df = list()\n",
    "for df in one_dfs:\n",
    "    tdf = df.dropna(axis = 1, how = 'all').replace({'\\n':' '}).ffill()\n",
    "    new_df.append(tdf)\n",
    "    \n"
   ]
  },
  {
   "cell_type": "code",
   "execution_count": 67,
   "metadata": {},
   "outputs": [
    {
     "data": {
      "text/html": [
       "<div>\n",
       "<style scoped>\n",
       "    .dataframe tbody tr th:only-of-type {\n",
       "        vertical-align: middle;\n",
       "    }\n",
       "\n",
       "    .dataframe tbody tr th {\n",
       "        vertical-align: top;\n",
       "    }\n",
       "\n",
       "    .dataframe thead th {\n",
       "        text-align: right;\n",
       "    }\n",
       "</style>\n",
       "<table border=\"1\" class=\"dataframe\">\n",
       "  <thead>\n",
       "    <tr style=\"text-align: right;\">\n",
       "      <th></th>\n",
       "      <th>XI  ANTICONCEPCIÓN.\\n\\nDESCRIPCIÓN</th>\n",
       "      <th>Unnamed: 7</th>\n",
       "      <th>Unnamed: 16</th>\n",
       "      <th>Unnamed: 25</th>\n",
       "      <th>Unnamed: 37</th>\n",
       "    </tr>\n",
       "  </thead>\n",
       "  <tbody>\n",
       "    <tr>\n",
       "      <th>27</th>\n",
       "      <td>RITMO</td>\n",
       "      <td>P11_1i</td>\n",
       "      <td>26.0</td>\n",
       "      <td>3 b\\n1</td>\n",
       "      <td>No\\n\\nNo especificado\\n\\nSi (Espontáneamente)</td>\n",
       "    </tr>\n",
       "    <tr>\n",
       "      <th>28</th>\n",
       "      <td>NaN</td>\n",
       "      <td>NaN</td>\n",
       "      <td>NaN</td>\n",
       "      <td>2</td>\n",
       "      <td>Si (Con ayuda)</td>\n",
       "    </tr>\n",
       "    <tr>\n",
       "      <th>29</th>\n",
       "      <td>NaN</td>\n",
       "      <td>NaN</td>\n",
       "      <td>NaN</td>\n",
       "      <td>3 b</td>\n",
       "      <td>No\\n\\nNo especificado</td>\n",
       "    </tr>\n",
       "  </tbody>\n",
       "</table>\n",
       "</div>"
      ],
      "text/plain": [
       "   XI  ANTICONCEPCIÓN.\\n\\nDESCRIPCIÓN Unnamed: 7  Unnamed: 16 Unnamed: 25  \\\n",
       "27                              RITMO     P11_1i         26.0      3 b\\n1   \n",
       "28                                NaN        NaN          NaN           2   \n",
       "29                                NaN        NaN          NaN         3 b   \n",
       "\n",
       "                                      Unnamed: 37  \n",
       "27  No\\n\\nNo especificado\\n\\nSi (Espontáneamente)  \n",
       "28                                 Si (Con ayuda)  \n",
       "29                          No\\n\\nNo especificado  "
      ]
     },
     "execution_count": 67,
     "metadata": {},
     "output_type": "execute_result"
    }
   ],
   "source": [
    "formal_df = []\n",
    "\n",
    "for ndf in new_df:\n",
    "    "
   ]
  }
 ],
 "metadata": {
  "kernelspec": {
   "display_name": "base",
   "language": "python",
   "name": "python3"
  },
  "language_info": {
   "codemirror_mode": {
    "name": "ipython",
    "version": 3
   },
   "file_extension": ".py",
   "mimetype": "text/x-python",
   "name": "python",
   "nbconvert_exporter": "python",
   "pygments_lexer": "ipython3",
   "version": "3.11.5"
  }
 },
 "nbformat": 4,
 "nbformat_minor": 2
}
