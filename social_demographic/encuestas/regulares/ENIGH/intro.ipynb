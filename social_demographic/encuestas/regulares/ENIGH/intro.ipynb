{
 "cells": [
  {
   "cell_type": "markdown",
   "metadata": {},
   "source": [
    "# Encuesta Nacional de Ingresos y Gastos de los Hogares\n",
    "\n",
    "La ENIGH 1994 se realizó para atender las demandas de información sobre la distribución del ingreso y el gasto de los hogares, planteadas por diversos usuarios para construir algunos indicadores básicos en la instrumentación de la política económica y social y en las investigaciones sobre los niveles de vida de la población.\n",
    "\n",
    "## Descarga de Datos"
   ]
  },
  {
   "cell_type": "code",
   "execution_count": 18,
   "metadata": {},
   "outputs": [],
   "source": [
    "base_url = \"https://www.inegi.org.mx/programas/enigh/\"\n",
    "category = ['nc','tradicional']\n",
    "years = {\n",
    "    'nc':[2012, 2018, 2016, 2014,2012,2010,2008],\n",
    "    'tradicional': [2014, 2012, 2010, 2008, 2006, 2005, 2004, 2002, 2000, 1998, 1996, 1994, 1992, 1989, 1984]\n",
    "}\n",
    "urls = []\n",
    "for cat in category:\n",
    "    yc  = len(years[cat])\n",
    "    for j in range(yc):\n",
    "        y = years[cat]\n",
    "        url = base_url + f\"{cat}/\" + str(y[j]) + '/#microdatos'\n",
    "        urls.append(url)\n"
   ]
  },
  {
   "cell_type": "code",
   "execution_count": 24,
   "metadata": {},
   "outputs": [
    {
     "data": {
      "text/plain": [
       "[]"
      ]
     },
     "execution_count": 24,
     "metadata": {},
     "output_type": "execute_result"
    }
   ],
   "source": []
  }
 ],
 "metadata": {
  "kernelspec": {
   "display_name": "base",
   "language": "python",
   "name": "python3"
  },
  "language_info": {
   "codemirror_mode": {
    "name": "ipython",
    "version": 3
   },
   "file_extension": ".py",
   "mimetype": "text/x-python",
   "name": "python",
   "nbconvert_exporter": "python",
   "pygments_lexer": "ipython3",
   "version": "3.11.5"
  }
 },
 "nbformat": 4,
 "nbformat_minor": 2
}
