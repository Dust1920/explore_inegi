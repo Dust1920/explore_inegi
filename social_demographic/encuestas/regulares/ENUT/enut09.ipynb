{
 "cells": [
  {
   "cell_type": "markdown",
   "metadata": {},
   "source": [
    "# 2009\n",
    "\n",
    "Ahora, nos enfrentamos a una gran dificultad. Obtener el diccionario de un archivo PDF. Agradeciendo que Python cuenta con herramientas para enfrentarlo. "
   ]
  },
  {
   "cell_type": "code",
   "execution_count": 16,
   "metadata": {},
   "outputs": [
    {
     "name": "stderr",
     "output_type": "stream",
     "text": [
      "PdfReader stream/file object is not in binary mode. It may not be read correctly.\n"
     ]
    },
    {
     "ename": "UnsupportedOperation",
     "evalue": "can't do nonzero cur-relative seeks",
     "output_type": "error",
     "traceback": [
      "\u001b[1;31m---------------------------------------------------------------------------\u001b[0m",
      "\u001b[1;31mUnsupportedOperation\u001b[0m                      Traceback (most recent call last)",
      "\u001b[1;32mc:\\Users\\Tamara\\Documents\\Proyectos\\INEGI\\social_demographic\\encuestas\\regulares\\ENUT\\enut09.ipynb Cell 2\u001b[0m line \u001b[0;36m5\n\u001b[0;32m      <a href='vscode-notebook-cell:/c%3A/Users/Tamara/Documents/Proyectos/INEGI/social_demographic/encuestas/regulares/ENUT/enut09.ipynb#W0sZmlsZQ%3D%3D?line=1'>2</a>\u001b[0m \u001b[39mimport\u001b[39;00m \u001b[39mPyPDF2\u001b[39;00m\n\u001b[0;32m      <a href='vscode-notebook-cell:/c%3A/Users/Tamara/Documents/Proyectos/INEGI/social_demographic/encuestas/regulares/ENUT/enut09.ipynb#W0sZmlsZQ%3D%3D?line=3'>4</a>\u001b[0m file \u001b[39m=\u001b[39m \u001b[39mopen\u001b[39m(\u001b[39m'\u001b[39m\u001b[39mdata\u001b[39m\u001b[39m\\\\\u001b[39;00m\u001b[39mdescripcion.pdf\u001b[39m\u001b[39m'\u001b[39m)\n\u001b[1;32m----> <a href='vscode-notebook-cell:/c%3A/Users/Tamara/Documents/Proyectos/INEGI/social_demographic/encuestas/regulares/ENUT/enut09.ipynb#W0sZmlsZQ%3D%3D?line=4'>5</a>\u001b[0m pdf \u001b[39m=\u001b[39m PyPDF2\u001b[39m.\u001b[39mPdfReader(file)\n",
      "File \u001b[1;32mc:\\Users\\Tamara\\anaconda3\\Lib\\site-packages\\PyPDF2\\_reader.py:317\u001b[0m, in \u001b[0;36mPdfReader.__init__\u001b[1;34m(self, stream, strict, password)\u001b[0m\n\u001b[0;32m    315\u001b[0m     \u001b[39mwith\u001b[39;00m \u001b[39mopen\u001b[39m(stream, \u001b[39m\"\u001b[39m\u001b[39mrb\u001b[39m\u001b[39m\"\u001b[39m) \u001b[39mas\u001b[39;00m fh:\n\u001b[0;32m    316\u001b[0m         stream \u001b[39m=\u001b[39m BytesIO(fh\u001b[39m.\u001b[39mread())\n\u001b[1;32m--> 317\u001b[0m \u001b[39mself\u001b[39m\u001b[39m.\u001b[39mread(stream)\n\u001b[0;32m    318\u001b[0m \u001b[39mself\u001b[39m\u001b[39m.\u001b[39mstream \u001b[39m=\u001b[39m stream\n\u001b[0;32m    320\u001b[0m \u001b[39mself\u001b[39m\u001b[39m.\u001b[39m_override_encryption \u001b[39m=\u001b[39m \u001b[39mFalse\u001b[39;00m\n",
      "File \u001b[1;32mc:\\Users\\Tamara\\anaconda3\\Lib\\site-packages\\PyPDF2\\_reader.py:1375\u001b[0m, in \u001b[0;36mread\u001b[1;34m(self, stream)\u001b[0m\n\u001b[0;32m   1373\u001b[0m header_byte \u001b[39m=\u001b[39m stream\u001b[39m.\u001b[39mread(\u001b[39m5\u001b[39m)\n\u001b[0;32m   1374\u001b[0m \u001b[39mif\u001b[39;00m header_byte \u001b[39m!=\u001b[39m \u001b[39mb\u001b[39m\u001b[39m\"\u001b[39m\u001b[39m%\u001b[39m\u001b[39mPDF-\u001b[39m\u001b[39m\"\u001b[39m:\n\u001b[1;32m-> 1375\u001b[0m     \u001b[39mraise\u001b[39;00m PdfReadError(\n\u001b[0;32m   1376\u001b[0m         \u001b[39mf\u001b[39m\u001b[39m\"\u001b[39m\u001b[39mPDF starts with \u001b[39m\u001b[39m'\u001b[39m\u001b[39m{\u001b[39;00mheader_byte\u001b[39m.\u001b[39mdecode(\u001b[39m'\u001b[39m\u001b[39mutf8\u001b[39m\u001b[39m'\u001b[39m)\u001b[39m}\u001b[39;00m\u001b[39m'\u001b[39m\u001b[39m, \u001b[39m\u001b[39m\"\u001b[39m\n\u001b[0;32m   1377\u001b[0m         \u001b[39m\"\u001b[39m\u001b[39mbut \u001b[39m\u001b[39m'\u001b[39m\u001b[39m%\u001b[39m\u001b[39mPDF-\u001b[39m\u001b[39m'\u001b[39m\u001b[39m expected\u001b[39m\u001b[39m\"\u001b[39m\n\u001b[0;32m   1378\u001b[0m     )\n\u001b[0;32m   1379\u001b[0m stream\u001b[39m.\u001b[39mseek(\u001b[39m0\u001b[39m, os\u001b[39m.\u001b[39mSEEK_END)\n",
      "File \u001b[1;32mc:\\Users\\Tamara\\anaconda3\\Lib\\site-packages\\PyPDF2\\_reader.py:1432\u001b[0m, in \u001b[0;36m_find_eof_marker\u001b[1;34m(self, stream)\u001b[0m\n\u001b[0;32m   1430\u001b[0m stream\u001b[39m.\u001b[39mseek(\u001b[39m-\u001b[39m\u001b[39m1\u001b[39m, \u001b[39m1\u001b[39m)\n\u001b[0;32m   1431\u001b[0m cnt \u001b[39m=\u001b[39m \u001b[39m0\u001b[39m\n\u001b[1;32m-> 1432\u001b[0m \u001b[39mwhile\u001b[39;00m cnt \u001b[39m<\u001b[39m size:\n\u001b[0;32m   1433\u001b[0m     line \u001b[39m=\u001b[39m stream\u001b[39m.\u001b[39mread(\u001b[39m20\u001b[39m)\n\u001b[0;32m   1435\u001b[0m     \u001b[39m# It's very clear in section 3.4.3 of the PDF spec\u001b[39;00m\n\u001b[0;32m   1436\u001b[0m     \u001b[39m# that all cross-reference table lines are a fixed\u001b[39;00m\n\u001b[0;32m   1437\u001b[0m     \u001b[39m# 20 bytes (as of PDF 1.7). However, some files have\u001b[39;00m\n\u001b[0;32m   1438\u001b[0m     \u001b[39m# 21-byte entries (or more) due to the use of \\r\\n\u001b[39;00m\n\u001b[0;32m   1439\u001b[0m     \u001b[39m# (CRLF) EOL's. Detect that case, and adjust the line\u001b[39;00m\n\u001b[0;32m   1440\u001b[0m     \u001b[39m# until it does not begin with a \\r (CR) or \\n (LF).\u001b[39;00m\n",
      "File \u001b[1;32mc:\\Users\\Tamara\\anaconda3\\Lib\\site-packages\\PyPDF2\\_utils.py:206\u001b[0m, in \u001b[0;36mread_previous_line\u001b[1;34m(stream)\u001b[0m\n\u001b[0;32m    203\u001b[0m \u001b[39m# Read the block. After this, our stream will be one\u001b[39;00m\n\u001b[0;32m    204\u001b[0m \u001b[39m# beyond the initial position.\u001b[39;00m\n\u001b[0;32m    205\u001b[0m block \u001b[39m=\u001b[39m read_block_backwards(stream, to_read)\n\u001b[1;32m--> 206\u001b[0m idx \u001b[39m=\u001b[39m \u001b[39mlen\u001b[39m(block) \u001b[39m-\u001b[39m \u001b[39m1\u001b[39m\n\u001b[0;32m    207\u001b[0m \u001b[39mif\u001b[39;00m \u001b[39mnot\u001b[39;00m found_crlf:\n\u001b[0;32m    208\u001b[0m     \u001b[39m# We haven't found our first CR/LF yet.\u001b[39;00m\n\u001b[0;32m    209\u001b[0m     \u001b[39m# Read off characters until we hit one.\u001b[39;00m\n\u001b[0;32m    210\u001b[0m     \u001b[39mwhile\u001b[39;00m idx \u001b[39m>\u001b[39m\u001b[39m=\u001b[39m \u001b[39m0\u001b[39m \u001b[39mand\u001b[39;00m block[idx] \u001b[39mnot\u001b[39;00m \u001b[39min\u001b[39;00m \u001b[39mb\u001b[39m\u001b[39m\"\u001b[39m\u001b[39m\\r\u001b[39;00m\u001b[39m\\n\u001b[39;00m\u001b[39m\"\u001b[39m:\n",
      "File \u001b[1;32mc:\\Users\\Tamara\\anaconda3\\Lib\\site-packages\\PyPDF2\\_utils.py:179\u001b[0m, in \u001b[0;36mread_block_backwards\u001b[1;34m(stream, to_read)\u001b[0m\n\u001b[0;32m    177\u001b[0m \u001b[39m# Seek to the start of the block we want to read.\u001b[39;00m\n\u001b[0;32m    178\u001b[0m stream\u001b[39m.\u001b[39mseek(\u001b[39m-\u001b[39mto_read, SEEK_CUR)\n\u001b[1;32m--> 179\u001b[0m read \u001b[39m=\u001b[39m stream\u001b[39m.\u001b[39mread(to_read)\n\u001b[0;32m    180\u001b[0m \u001b[39m# Seek to the start of the block we read after reading it.\u001b[39;00m\n\u001b[0;32m    181\u001b[0m stream\u001b[39m.\u001b[39mseek(\u001b[39m-\u001b[39mto_read, SEEK_CUR)\n",
      "\u001b[1;31mUnsupportedOperation\u001b[0m: can't do nonzero cur-relative seeks"
     ]
    }
   ],
   "source": [
    "import pandas as pd"
   ]
  }
 ],
 "metadata": {
  "kernelspec": {
   "display_name": "base",
   "language": "python",
   "name": "python3"
  },
  "language_info": {
   "codemirror_mode": {
    "name": "ipython",
    "version": 3
   },
   "file_extension": ".py",
   "mimetype": "text/x-python",
   "name": "python",
   "nbconvert_exporter": "python",
   "pygments_lexer": "ipython3",
   "version": "3.11.5"
  }
 },
 "nbformat": 4,
 "nbformat_minor": 2
}
